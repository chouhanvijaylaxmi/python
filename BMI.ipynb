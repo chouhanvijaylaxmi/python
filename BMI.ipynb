{
  "nbformat": 4,
  "nbformat_minor": 0,
  "metadata": {
    "colab": {
      "provenance": [],
      "authorship_tag": "ABX9TyO/hGj2ySHz0X7x0GhFd4/3",
      "include_colab_link": true
    },
    "kernelspec": {
      "name": "python3",
      "display_name": "Python 3"
    },
    "language_info": {
      "name": "python"
    }
  },
  "cells": [
    {
      "cell_type": "markdown",
      "metadata": {
        "id": "view-in-github",
        "colab_type": "text"
      },
      "source": [
        "<a href=\"https://colab.research.google.com/github/chouhanvijaylaxmi/python/blob/main/BMI.ipynb\" target=\"_parent\"><img src=\"https://colab.research.google.com/assets/colab-badge.svg\" alt=\"Open In Colab\"/></a>"
      ]
    },
    {
      "cell_type": "code",
      "execution_count": 13,
      "metadata": {
        "colab": {
          "base_uri": "https://localhost:8080/"
        },
        "id": "qPHI5U1ZtYaD",
        "outputId": "83d5dfc5-56df-4357-a10a-824c3afbffea"
      },
      "outputs": [
        {
          "output_type": "stream",
          "name": "stdout",
          "text": [
            "Enter the height in cm: 152\n",
            "Enter the weight in kg: 42\n",
            "Your Body Mass Index is 18.178670360110804\n",
            "Oops! You are underweight.\n"
          ]
        }
      ],
      "source": [
        "the_height = float(input(\"Enter the height in cm: \"))\n",
        "the_weight = float(input(\"Enter the weight in kg: \"))\n",
        "the_BMI = the_weight / (the_height/100)**2\n",
        "print(\"Your Body Mass Index is\", the_BMI)\n",
        "if the_BMI <= 18.5:\n",
        "    print(\"Oops! You are underweight.\")\n",
        "elif the_BMI <= 24.9:\n",
        "    print(\"Awesome! You are healthy.\")\n",
        "elif the_BMI <= 29.9:\n",
        "    the_print(\"Eee! You are over weight.\")\n",
        "else:\n",
        "    print(\"Seesh! You are obese.\")"
      ]
    }
  ]
}