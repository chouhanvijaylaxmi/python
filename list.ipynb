{
  "nbformat": 4,
  "nbformat_minor": 0,
  "metadata": {
    "colab": {
      "provenance": [],
      "authorship_tag": "ABX9TyMVEwm9Ln9Uuc5GpkmjElll",
      "include_colab_link": true
    },
    "kernelspec": {
      "name": "python3",
      "display_name": "Python 3"
    },
    "language_info": {
      "name": "python"
    }
  },
  "cells": [
    {
      "cell_type": "markdown",
      "metadata": {
        "id": "view-in-github",
        "colab_type": "text"
      },
      "source": [
        "<a href=\"https://colab.research.google.com/github/chouhanvijaylaxmi/python/blob/main/list.ipynb\" target=\"_parent\"><img src=\"https://colab.research.google.com/assets/colab-badge.svg\" alt=\"Open In Colab\"/></a>"
      ]
    },
    {
      "cell_type": "code",
      "execution_count": 27,
      "metadata": {
        "colab": {
          "base_uri": "https://localhost:8080/"
        },
        "id": "7GKnoV8P_P-V",
        "outputId": "3404af34-af7d-41ef-f2b1-8891f59ca773"
      },
      "outputs": [
        {
          "output_type": "stream",
          "name": "stdout",
          "text": [
            "['lotus', 'rose', 'sunflower', 'lilly', 'apple']\n",
            "['lotus', 'rose', 'sunflower', 'lilly']\n",
            "['sunflower']\n",
            "false\n"
          ]
        }
      ],
      "source": [
        "flower =  list((\"rose\", \"sunflower\",\"lilly\"))\n",
        "flower.append(\"apple\")\n",
        "flower.insert(0,\"lotus\")\n",
        "print(flower)\n",
        "print(flower[0:4])\n",
        "print(flower[2:3])\n",
        "if 'jasmine'in flower:\n",
        "  print(\"true\")\n",
        "else:\n",
        "     print(\"false\")\n",
        ""
      ]
    },
    {
      "cell_type": "code",
      "source": [
        "name = list((\"khushi\" , \"ruchika\" , \"payal\"))\n",
        "flower = list((\"lotus\" , \"rose \", \"lilly\"))\n",
        "name.extend(flower)\n",
        "print(name)"
      ],
      "metadata": {
        "colab": {
          "base_uri": "https://localhost:8080/"
        },
        "id": "kGppRO1QG6Vg",
        "outputId": "de4fcd67-9f18-429c-8eb2-2ef742bdcede"
      },
      "execution_count": 29,
      "outputs": [
        {
          "output_type": "stream",
          "name": "stdout",
          "text": [
            "['khushi', 'ruchika', 'payal', 'lotus', 'rose ', 'lilly']\n"
          ]
        }
      ]
    },
    {
      "cell_type": "code",
      "source": [
        "name = list((\"khushi\" , \"ruchika\" , \"payal\"))\n",
        "name.pop(1)\n",
        "print(name)"
      ],
      "metadata": {
        "colab": {
          "base_uri": "https://localhost:8080/"
        },
        "id": "JbXdo2JmIB9G",
        "outputId": "1999ab8f-091c-4d89-abd4-e32349ee1662"
      },
      "execution_count": 37,
      "outputs": [
        {
          "output_type": "stream",
          "name": "stdout",
          "text": [
            "['khushi', 'payal']\n"
          ]
        }
      ]
    }
  ]
}