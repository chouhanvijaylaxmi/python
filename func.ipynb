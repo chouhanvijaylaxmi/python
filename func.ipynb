{
  "cells": [
    {
      "cell_type": "markdown",
      "metadata": {
        "id": "view-in-github",
        "colab_type": "text"
      },
      "source": [
        "<a href=\"https://colab.research.google.com/github/chouhanvijaylaxmi/python/blob/main/func.ipynb\" target=\"_parent\"><img src=\"https://colab.research.google.com/assets/colab-badge.svg\" alt=\"Open In Colab\"/></a>"
      ]
    },
    {
      "cell_type": "code",
      "execution_count": null,
      "metadata": {
        "colab": {
          "base_uri": "https://localhost:8080/"
        },
        "id": "gaF2wZWXmsNs",
        "outputId": "00b872fc-7271-413a-a6fa-def81440ae38"
      },
      "outputs": [
        {
          "name": "stdout",
          "output_type": "stream",
          "text": [
            "enter value5\n",
            "enter value4.5\n",
            "0.5\n",
            "<class 'str'>\n",
            "<class 'str'>\n"
          ]
        }
      ],
      "source": [
        "\n",
        "\n",
        "a=input('enter value')\n",
        "type(a)\n",
        "b=input('enter value')\n",
        "type(b)\n",
        "print(float(a)-float(b))\n",
        "print(type(a))\n",
        "print(type(b))"
      ]
    },
    {
      "cell_type": "markdown",
      "metadata": {
        "id": "VgsxHItJt4tz"
      },
      "source": [
        "# New Section"
      ]
    },
    {
      "cell_type": "code",
      "execution_count": null,
      "metadata": {
        "colab": {
          "base_uri": "https://localhost:8080/"
        },
        "id": "05108zK3o5up",
        "outputId": "85a53d3a-3c91-4285-c0e3-339bdf369690"
      },
      "outputs": [
        {
          "name": "stdout",
          "output_type": "stream",
          "text": [
            "1\n",
            "wierd\n"
          ]
        }
      ],
      "source": [
        "n = input()\n",
        "n=int(n)\n",
        "if (n%2!=0) or (n<=6 and n>=20):\n",
        "  print(\"wierd\")\n",
        "else:\n",
        "   print(\"not wierd\")"
      ]
    },
    {
      "cell_type": "code",
      "execution_count": null,
      "metadata": {
        "colab": {
          "base_uri": "https://localhost:8080/"
        },
        "id": "6yPS5hFQeBUa",
        "outputId": "7992149c-8b82-48dc-f1ed-809879b6d528"
      },
      "outputs": [
        {
          "name": "stdout",
          "output_type": "stream",
          "text": [
            "5\n",
            "9\n",
            "0\n",
            "0.5555555555555556\n"
          ]
        }
      ],
      "source": [
        "a= input()\n",
        "a=int(a)\n",
        "b= input()\n",
        "b=int(b)\n",
        "print(a//b)\n",
        "print(a/b)"
      ]
    },
    {
      "cell_type": "code",
      "execution_count": null,
      "metadata": {
        "colab": {
          "base_uri": "https://localhost:8080/"
        },
        "id": "42z-onVley-8",
        "outputId": "f53de425-1621-46d0-dd0c-92a765a03957"
      },
      "outputs": [
        {
          "name": "stdout",
          "output_type": "stream",
          "text": [
            "6\n",
            "0\n",
            "1\n",
            "4\n",
            "9\n",
            "16\n",
            "25\n",
            "36\n",
            "49\n",
            "64\n",
            "81\n"
          ]
        }
      ],
      "source": [
        "a= input()\n",
        "a= int(a)\n",
        "for b in range(0,a):\n",
        "  print(b*b)"
      ]
    },
    {
      "cell_type": "code",
      "execution_count": null,
      "metadata": {
        "colab": {
          "base_uri": "https://localhost:8080/"
        },
        "id": "ARHcsyurgS1h",
        "outputId": "5e50f989-65a6-4dd9-ca36-f421a7ea9730"
      },
      "outputs": [
        {
          "name": "stdout",
          "output_type": "stream",
          "text": [
            "this is even\n"
          ]
        }
      ],
      "source": [
        "\n",
        "a= 4\n",
        "if a % 2 == 0:\n",
        "  print('this is even')\n",
        "else:\n",
        "  print('this is odd')"
      ]
    },
    {
      "cell_type": "code",
      "execution_count": null,
      "metadata": {
        "colab": {
          "base_uri": "https://localhost:8080/"
        },
        "id": "8llVOcYlim1Y",
        "outputId": "9720a32d-9dc2-459f-f288-c5c624ac8abf"
      },
      "outputs": [
        {
          "name": "stdout",
          "output_type": "stream",
          "text": [
            "Enter the value (0-9):10\n",
            "invalid value\n"
          ]
        }
      ],
      "source": [
        "a = int(input(\"Enter the value (0-9):\"))\n",
        "if a == 0:\n",
        "  print(\"zero\")\n",
        "elif a == 1:\n",
        "  print(\"one\")\n",
        "elif a == 2:\n",
        "  print(\"two\")\n",
        "elif a == 3:\n",
        "  print(\"three\")\n",
        "elif a == 4:\n",
        "  print(\"four\")\n",
        "elif a == 5:\n",
        "  print(\"five\")\n",
        "elif a == 6:\n",
        "  print(\"six\")\n",
        "elif a == 7:\n",
        "  print(\"seven\")\n",
        "elif a == 8:\n",
        "  print(\"eight\")\n",
        "elif a == 9:\n",
        "  print(\"nine\")\n",
        "else:\n",
        "  print(\"invalid value\")\n",
        "\n",
        "\n"
      ]
    },
    {
      "cell_type": "code",
      "source": [
        "a=1\n",
        "a1=5\n",
        "b= True\n",
        "c=\"khushi\"\n",
        "d= None\n",
        "print(a+a1)\n",
        "print(\"type of a is\", type(a))\n",
        "print(\"type of b is\", type(b))\n",
        "print(\"type of c is\", type(c))\n",
        "print(\"type of d is\", type(d))"
      ],
      "metadata": {
        "colab": {
          "base_uri": "https://localhost:8080/"
        },
        "id": "Jj3mBTasesWt",
        "outputId": "41e8b087-7765-45b2-fe1d-95ff90505069"
      },
      "execution_count": 13,
      "outputs": [
        {
          "output_type": "stream",
          "name": "stdout",
          "text": [
            "6\n",
            "type of a is <class 'int'>\n",
            "type of b is <class 'bool'>\n",
            "type of c is <class 'str'>\n",
            "type of d is <class 'NoneType'>\n"
          ]
        }
      ]
    },
    {
      "cell_type": "code",
      "source": [
        "def calculateGmean(a,b):\n",
        "  mean = (a*b)/(a+b)\n",
        "  print(mean)\n",
        "\n",
        "  a = 8\n",
        "  b = 5\n",
        "  if (a>b):\n",
        "    print(\"Frist number is greater\")\n",
        "  else:\n",
        "    print(\"second number is greater\")\n",
        "calculateGmean(a,b)"
      ],
      "metadata": {
        "colab": {
          "base_uri": "https://localhost:8080/"
        },
        "id": "cTS3V3uUmCn1",
        "outputId": "df63582f-2c46-4021-e99f-d3074bdb6b84"
      },
      "execution_count": 25,
      "outputs": [
        {
          "output_type": "stream",
          "name": "stdout",
          "text": [
            "0.5\n",
            "Frist number is greater\n"
          ]
        }
      ]
    }
  ],
  "metadata": {
    "colab": {
      "toc_visible": true,
      "provenance": [],
      "authorship_tag": "ABX9TyMlqFbQnhBE090cRNrWtFEg",
      "include_colab_link": true
    },
    "kernelspec": {
      "display_name": "Python 3",
      "name": "python3"
    },
    "language_info": {
      "name": "python"
    }
  },
  "nbformat": 4,
  "nbformat_minor": 0
}