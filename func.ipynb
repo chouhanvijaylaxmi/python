{
  "nbformat": 4,
  "nbformat_minor": 0,
  "metadata": {
    "colab": {
      "provenance": [],
      "authorship_tag": "ABX9TyM6XeaNWVUKJb+NxmmTwYZl",
      "include_colab_link": true
    },
    "kernelspec": {
      "name": "python3",
      "display_name": "Python 3"
    },
    "language_info": {
      "name": "python"
    }
  },
  "cells": [
    {
      "cell_type": "markdown",
      "metadata": {
        "id": "view-in-github",
        "colab_type": "text"
      },
      "source": [
        "<a href=\"https://colab.research.google.com/github/chouhanvijaylaxmi/python/blob/main/func.ipynb\" target=\"_parent\"><img src=\"https://colab.research.google.com/assets/colab-badge.svg\" alt=\"Open In Colab\"/></a>"
      ]
    },
    {
      "cell_type": "code",
      "execution_count": 11,
      "metadata": {
        "id": "o5HGmdA9-68t",
        "colab": {
          "base_uri": "https://localhost:8080/"
        },
        "outputId": "a7cc5cf1-8a40-4468-80c4-1d7c614ff031"
      },
      "outputs": [
        {
          "output_type": "stream",
          "name": "stdout",
          "text": [
            "sum: 10\n"
          ]
        }
      ],
      "source": [
        "def add_numbers(num1,num2):\n",
        "   sum  = num1 + num2\n",
        "   print(\"sum:\", sum)\n",
        "add_numbers(6,4)\n",
        ""
      ]
    }
  ]
}