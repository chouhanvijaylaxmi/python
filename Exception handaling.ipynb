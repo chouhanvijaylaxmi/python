{
  "nbformat": 4,
  "nbformat_minor": 0,
  "metadata": {
    "colab": {
      "provenance": [],
      "authorship_tag": "ABX9TyPmeQ00czU9HFDSZ4nrMjlr",
      "include_colab_link": true
    },
    "kernelspec": {
      "name": "python3",
      "display_name": "Python 3"
    },
    "language_info": {
      "name": "python"
    }
  },
  "cells": [
    {
      "cell_type": "markdown",
      "metadata": {
        "id": "view-in-github",
        "colab_type": "text"
      },
      "source": [
        "<a href=\"https://colab.research.google.com/github/chouhanvijaylaxmi/python/blob/main/Exception%20handaling.ipynb\" target=\"_parent\"><img src=\"https://colab.research.google.com/assets/colab-badge.svg\" alt=\"Open In Colab\"/></a>"
      ]
    },
    {
      "cell_type": "code",
      "execution_count": 3,
      "metadata": {
        "colab": {
          "base_uri": "https://localhost:8080/"
        },
        "id": "9wI6cxghTGkb",
        "outputId": "27f06476-2057-449c-cc15-04ca50799a7d"
      },
      "outputs": [
        {
          "output_type": "stream",
          "name": "stdout",
          "text": [
            "Enter the value:klkld\n",
            "number is not integer\n"
          ]
        }
      ],
      "source": [
        "try:\n",
        "  int(input(\"Enter the value:\"))\n",
        "except:\n",
        "  print(\"number is not integer\")"
      ]
    },
    {
      "cell_type": "code",
      "source": [
        "array = [\"jan\",\"feb\",\"mar\",\"april\"]\n",
        "for i in range(5):\n",
        "    if i>2:\n",
        "      try:\n",
        "        raise Exception ('hello')\n",
        "      except Exception as e:\n",
        "        print (\"error\",e)\n",
        "\n",
        ""
      ],
      "metadata": {
        "colab": {
          "base_uri": "https://localhost:8080/"
        },
        "id": "5WBTihFpYuWV",
        "outputId": "4aa3faf4-878f-4ae5-e0ef-efb831ac40f8"
      },
      "execution_count": 19,
      "outputs": [
        {
          "output_type": "stream",
          "name": "stdout",
          "text": [
            "error hello\n",
            "error hello\n"
          ]
        }
      ]
    },
    {
      "cell_type": "code",
      "source": [
        "try:\n",
        "\tk = 5\n",
        "\tprint(k)\n",
        "\n",
        "except:\n",
        "\tprint(\"number is 5\")\n",
        "else:\n",
        "  print(\"heyy\")\n",
        "finally:\n",
        "\tprint('This is always executed')\n",
        "\n"
      ],
      "metadata": {
        "colab": {
          "base_uri": "https://localhost:8080/"
        },
        "id": "b826eOwtd-Vl",
        "outputId": "22ec5f74-adb4-444f-d3c6-d72b23583885"
      },
      "execution_count": 24,
      "outputs": [
        {
          "output_type": "stream",
          "name": "stdout",
          "text": [
            "5\n",
            "heyy\n",
            "This is always executed\n"
          ]
        }
      ]
    }
  ]
}