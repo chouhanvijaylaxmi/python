{
  "nbformat": 4,
  "nbformat_minor": 0,
  "metadata": {
    "colab": {
      "provenance": [],
      "toc_visible": true,
      "authorship_tag": "ABX9TyNIpuIKbBzlN0LRk8QMSEU2",
      "include_colab_link": true
    },
    "kernelspec": {
      "name": "python3",
      "display_name": "Python 3"
    },
    "language_info": {
      "name": "python"
    }
  },
  "cells": [
    {
      "cell_type": "markdown",
      "metadata": {
        "id": "view-in-github",
        "colab_type": "text"
      },
      "source": [
        "<a href=\"https://colab.research.google.com/github/chouhanvijaylaxmi/python/blob/main/nums%20in%20words.ipynb\" target=\"_parent\"><img src=\"https://colab.research.google.com/assets/colab-badge.svg\" alt=\"Open In Colab\"/></a>"
      ]
    },
    {
      "cell_type": "code",
      "execution_count": null,
      "metadata": {
        "colab": {
          "base_uri": "https://localhost:8080/"
        },
        "id": "gaF2wZWXmsNs",
        "outputId": "00b872fc-7271-413a-a6fa-def81440ae38"
      },
      "outputs": [
        {
          "output_type": "stream",
          "name": "stdout",
          "text": [
            "enter value5\n",
            "enter value4.5\n",
            "0.5\n",
            "<class 'str'>\n",
            "<class 'str'>\n"
          ]
        }
      ],
      "source": [
        "\n",
        "\n",
        "a=input('enter value')\n",
        "type(a)\n",
        "b=input('enter value')\n",
        "type(b)\n",
        "print(float(a)-float(b))\n",
        "print(type(a))\n",
        "print(type(b))"
      ]
    },
    {
      "cell_type": "markdown",
      "source": [
        "# New Section"
      ],
      "metadata": {
        "id": "VgsxHItJt4tz"
      }
    },
    {
      "cell_type": "code",
      "source": [
        "n = input()\n",
        "n=int(n)\n",
        "if (n%2!=0) or (n<=6 and n>=20):\n",
        "  print(\"wierd\")\n",
        "else:\n",
        "   print(\"not wierd\")"
      ],
      "metadata": {
        "id": "05108zK3o5up",
        "colab": {
          "base_uri": "https://localhost:8080/"
        },
        "outputId": "85a53d3a-3c91-4285-c0e3-339bdf369690"
      },
      "execution_count": 20,
      "outputs": [
        {
          "output_type": "stream",
          "name": "stdout",
          "text": [
            "1\n",
            "wierd\n"
          ]
        }
      ]
    },
    {
      "cell_type": "code",
      "source": [
        "a= input()\n",
        "a=int(a)\n",
        "b= input()\n",
        "b=int(b)\n",
        "print(a//b)\n",
        "print(a/b)"
      ],
      "metadata": {
        "colab": {
          "base_uri": "https://localhost:8080/"
        },
        "id": "6yPS5hFQeBUa",
        "outputId": "7992149c-8b82-48dc-f1ed-809879b6d528"
      },
      "execution_count": 21,
      "outputs": [
        {
          "output_type": "stream",
          "name": "stdout",
          "text": [
            "5\n",
            "9\n",
            "0\n",
            "0.5555555555555556\n"
          ]
        }
      ]
    },
    {
      "cell_type": "code",
      "source": [
        "a= input()\n",
        "a= int(a)\n",
        "for b in range(0,a):\n",
        "  print(b*b)"
      ],
      "metadata": {
        "colab": {
          "base_uri": "https://localhost:8080/"
        },
        "id": "42z-onVley-8",
        "outputId": "f53de425-1621-46d0-dd0c-92a765a03957"
      },
      "execution_count": 28,
      "outputs": [
        {
          "output_type": "stream",
          "name": "stdout",
          "text": [
            "6\n",
            "0\n",
            "1\n",
            "4\n",
            "9\n",
            "16\n",
            "25\n",
            "36\n",
            "49\n",
            "64\n",
            "81\n"
          ]
        }
      ]
    },
    {
      "cell_type": "code",
      "source": [
        "\n",
        "a= 4\n",
        "if a % 2 == 0:\n",
        "  print('this is even')\n",
        "else:\n",
        "  print('this is odd')"
      ],
      "metadata": {
        "colab": {
          "base_uri": "https://localhost:8080/"
        },
        "id": "ARHcsyurgS1h",
        "outputId": "5e50f989-65a6-4dd9-ca36-f421a7ea9730"
      },
      "execution_count": 38,
      "outputs": [
        {
          "output_type": "stream",
          "name": "stdout",
          "text": [
            "this is even\n"
          ]
        }
      ]
    },
    {
      "cell_type": "code",
      "source": [
        "a = int(input(\"Enter the value (0-9):\"))\n",
        "if a == 0:\n",
        "  print(\"zero\")\n",
        "elif a == 1:\n",
        "  print(\"one\")\n",
        "elif a == 2:\n",
        "  print(\"two\")\n",
        "elif a == 3:\n",
        "  print(\"three\")\n",
        "elif a == 4:\n",
        "  print(\"four\")\n",
        "elif a == 5:\n",
        "  print(\"five\")\n",
        "elif a == 6:\n",
        "  print(\"six\")\n",
        "elif a == 7:\n",
        "  print(\"seven\")\n",
        "elif a == 8:\n",
        "  print(\"eight\")\n",
        "elif a == 9:\n",
        "  print(\"nine\")\n",
        "else:\n",
        "  print(\"invalid value\")\n",
        "\n",
        "\n"
      ],
      "metadata": {
        "colab": {
          "base_uri": "https://localhost:8080/"
        },
        "id": "8llVOcYlim1Y",
        "outputId": "9720a32d-9dc2-459f-f288-c5c624ac8abf"
      },
      "execution_count": 43,
      "outputs": [
        {
          "output_type": "stream",
          "name": "stdout",
          "text": [
            "Enter the value (0-9):10\n",
            "invalid value\n"
          ]
        }
      ]
    }
  ]
}