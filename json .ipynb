{
  "nbformat": 4,
  "nbformat_minor": 0,
  "metadata": {
    "colab": {
      "provenance": [],
      "authorship_tag": "ABX9TyMBkmlZ03Q7AAl1KLX73p3X",
      "include_colab_link": true
    },
    "kernelspec": {
      "name": "python3",
      "display_name": "Python 3"
    },
    "language_info": {
      "name": "python"
    }
  },
  "cells": [
    {
      "cell_type": "markdown",
      "metadata": {
        "id": "view-in-github",
        "colab_type": "text"
      },
      "source": [
        "<a href=\"https://colab.research.google.com/github/chouhanvijaylaxmi/python/blob/main/json%20.ipynb\" target=\"_parent\"><img src=\"https://colab.research.google.com/assets/colab-badge.svg\" alt=\"Open In Colab\"/></a>"
      ]
    },
    {
      "cell_type": "code",
      "execution_count": 8,
      "metadata": {
        "colab": {
          "base_uri": "https://localhost:8080/"
        },
        "id": "AcRUUMlX4aCD",
        "outputId": "1dd77b92-09d5-41f1-a35f-10832b44a818"
      },
      "outputs": [
        {
          "output_type": "stream",
          "name": "stdout",
          "text": [
            "Software Engineer\n",
            "Email Marketing Specialist\n"
          ]
        }
      ],
      "source": [
        "import json\n",
        "\n",
        "json_data = '[{\"Employee ID\":1,\"Name\":\"Abhishek\",\"Designation\":\"Software Engineer\"},'\\\n",
        "'{\"Employee ID\":2,\"Name\":\"Garima\",\"Designation\":\"Email Marketing Specialist\"}]'\n",
        "\n",
        "\n",
        "json_object = json.loads(json_data)\n",
        "\n",
        "designations =[employee['Designation'] for employee in json_object]\n",
        "for designation in designations:\n",
        "  print(designation)\n"
      ]
    }
  ]
}