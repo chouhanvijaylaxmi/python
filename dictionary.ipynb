{
  "nbformat": 4,
  "nbformat_minor": 0,
  "metadata": {
    "colab": {
      "provenance": [],
      "authorship_tag": "ABX9TyPtK4yZEuB9o4ojiKHsiCat",
      "include_colab_link": true
    },
    "kernelspec": {
      "name": "python3",
      "display_name": "Python 3"
    },
    "language_info": {
      "name": "python"
    }
  },
  "cells": [
    {
      "cell_type": "markdown",
      "metadata": {
        "id": "view-in-github",
        "colab_type": "text"
      },
      "source": [
        "<a href=\"https://colab.research.google.com/github/chouhanvijaylaxmi/python/blob/main/dictionary.ipynb\" target=\"_parent\"><img src=\"https://colab.research.google.com/assets/colab-badge.svg\" alt=\"Open In Colab\"/></a>"
      ]
    },
    {
      "cell_type": "code",
      "source": [
        "user = {\"name\":\"khushi\",\"age\":20,\"subject\":(\"English\", \"Hindi\" , \"science\") ,\"name\":\"ruchika\"}\n",
        "print(user.keys())\n",
        "print(user.values())\n",
        "print(user.items())"
      ],
      "metadata": {
        "colab": {
          "base_uri": "https://localhost:8080/"
        },
        "id": "wz0RIU5MDkci",
        "outputId": "647e6b56-6391-4444-9b08-f4f29da1a720"
      },
      "execution_count": 24,
      "outputs": [
        {
          "output_type": "stream",
          "name": "stdout",
          "text": [
            "dict_keys(['name', 'age', 'subject'])\n",
            "dict_values(['ruchika', 20, ('English', 'Hindi', 'science')])\n",
            "dict_items([('name', 'ruchika'), ('age', 20), ('subject', ('English', 'Hindi', 'science'))])\n"
          ]
        }
      ]
    },
    {
      "cell_type": "code",
      "source": [
        "user = {\"name\":\"khushi\", \"age\":20,\"subject\":\"python\"}\n",
        "for key, value in user.items():\n",
        "  print(key, value)\n"
      ],
      "metadata": {
        "colab": {
          "base_uri": "https://localhost:8080/"
        },
        "id": "z2e2rqMbHcKu",
        "outputId": "1f222721-c15a-41b6-8040-5ec2b5d53446"
      },
      "execution_count": 25,
      "outputs": [
        {
          "output_type": "stream",
          "name": "stdout",
          "text": [
            "name khushi\n",
            "age 20\n",
            "subject python\n"
          ]
        }
      ]
    },
    {
      "cell_type": "code",
      "source": [
        "user = {\"name\":\"khushi\", \"age\":20,\"subject\":\"python\"}\n",
        "user [\"father name\"]=\"lokendar singh\"\n",
        "user.update({\"class\":12})\n",
        "print(user.pop('name'))\n",
        "print(user.popitem())\n",
        "\n",
        "\n"
      ],
      "metadata": {
        "colab": {
          "base_uri": "https://localhost:8080/"
        },
        "id": "V1gSlpETIJfl",
        "outputId": "95f6d2c7-f669-4b23-8a2f-1c7a750211ce"
      },
      "execution_count": 45,
      "outputs": [
        {
          "output_type": "stream",
          "name": "stdout",
          "text": [
            "khushi\n",
            "('class', 12)\n"
          ]
        }
      ]
    },
    {
      "cell_type": "code",
      "source": [
        "user = {\"name\":\"khushi\", \"age\":20,\"subject\":\"python\"}\n",
        "del user[\"name\"]\n",
        "print(user.items())\n"
      ],
      "metadata": {
        "colab": {
          "base_uri": "https://localhost:8080/"
        },
        "id": "hUd9jZRcMP3u",
        "outputId": "995c4cde-f6cb-4ccb-b119-6a514f131fab"
      },
      "execution_count": 44,
      "outputs": [
        {
          "output_type": "stream",
          "name": "stdout",
          "text": [
            "dict_items([('age', 20), ('subject', 'python')])\n"
          ]
        }
      ]
    }
  ]
}