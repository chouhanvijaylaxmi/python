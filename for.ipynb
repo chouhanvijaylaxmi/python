{
  "nbformat": 4,
  "nbformat_minor": 0,
  "metadata": {
    "colab": {
      "provenance": [],
      "toc_visible": true,
      "authorship_tag": "ABX9TyMGu6165ajNc67xeRI/Z21/",
      "include_colab_link": true
    },
    "kernelspec": {
      "name": "python3",
      "display_name": "Python 3"
    },
    "language_info": {
      "name": "python"
    }
  },
  "cells": [
    {
      "cell_type": "markdown",
      "metadata": {
        "id": "view-in-github",
        "colab_type": "text"
      },
      "source": [
        "<a href=\"https://colab.research.google.com/github/chouhanvijaylaxmi/python/blob/main/for.ipynb\" target=\"_parent\"><img src=\"https://colab.research.google.com/assets/colab-badge.svg\" alt=\"Open In Colab\"/></a>"
      ]
    },
    {
      "cell_type": "code",
      "execution_count": null,
      "metadata": {
        "colab": {
          "base_uri": "https://localhost:8080/"
        },
        "id": "gaF2wZWXmsNs",
        "outputId": "00b872fc-7271-413a-a6fa-def81440ae38"
      },
      "outputs": [
        {
          "output_type": "stream",
          "name": "stdout",
          "text": [
            "enter value5\n",
            "enter value4.5\n",
            "0.5\n",
            "<class 'str'>\n",
            "<class 'str'>\n"
          ]
        }
      ],
      "source": [
        "\n",
        "\n",
        "a=input('enter value')\n",
        "type(a)\n",
        "b=input('enter value')\n",
        "type(b)\n",
        "print(float(a)-float(b))\n",
        "print(type(a))\n",
        "print(type(b))"
      ]
    },
    {
      "cell_type": "markdown",
      "source": [
        "# New Section"
      ],
      "metadata": {
        "id": "VgsxHItJt4tz"
      }
    },
    {
      "cell_type": "code",
      "source": [
        "n = input()\n",
        "n=int(n)\n",
        "if (n%2!=0) or (n<=6 and n>=20):\n",
        "  print(\"wierd\")\n",
        "else:\n",
        "   print(\"not wierd\")"
      ],
      "metadata": {
        "id": "05108zK3o5up",
        "colab": {
          "base_uri": "https://localhost:8080/"
        },
        "outputId": "85a53d3a-3c91-4285-c0e3-339bdf369690"
      },
      "execution_count": 20,
      "outputs": [
        {
          "output_type": "stream",
          "name": "stdout",
          "text": [
            "1\n",
            "wierd\n"
          ]
        }
      ]
    },
    {
      "cell_type": "code",
      "source": [
        "a= input()\n",
        "a=int(a)\n",
        "b= input()\n",
        "b=int(b)\n",
        "print(a//b)\n",
        "print(a/b)"
      ],
      "metadata": {
        "colab": {
          "base_uri": "https://localhost:8080/"
        },
        "id": "6yPS5hFQeBUa",
        "outputId": "7992149c-8b82-48dc-f1ed-809879b6d528"
      },
      "execution_count": 21,
      "outputs": [
        {
          "output_type": "stream",
          "name": "stdout",
          "text": [
            "5\n",
            "9\n",
            "0\n",
            "0.5555555555555556\n"
          ]
        }
      ]
    },
    {
      "cell_type": "code",
      "source": [
        "a= input()\n",
        "a= int(a)\n",
        "for b in range(0,a):\n",
        "  print(b*b)"
      ],
      "metadata": {
        "colab": {
          "base_uri": "https://localhost:8080/"
        },
        "id": "42z-onVley-8",
        "outputId": "f53de425-1621-46d0-dd0c-92a765a03957"
      },
      "execution_count": 28,
      "outputs": [
        {
          "output_type": "stream",
          "name": "stdout",
          "text": [
            "6\n",
            "0\n",
            "1\n",
            "4\n",
            "9\n",
            "16\n",
            "25\n",
            "36\n",
            "49\n",
            "64\n",
            "81\n"
          ]
        }
      ]
    }
  ]
}