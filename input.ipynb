{
  "nbformat": 4,
  "nbformat_minor": 0,
  "metadata": {
    "colab": {
      "provenance": [],
      "authorship_tag": "ABX9TyOMJn3kSoDoA8bF/KQH9SRq",
      "include_colab_link": true
    },
    "kernelspec": {
      "name": "python3",
      "display_name": "Python 3"
    },
    "language_info": {
      "name": "python"
    }
  },
  "cells": [
    {
      "cell_type": "markdown",
      "metadata": {
        "id": "view-in-github",
        "colab_type": "text"
      },
      "source": [
        "<a href=\"https://colab.research.google.com/github/chouhanvijaylaxmi/python/blob/main/input.ipynb\" target=\"_parent\"><img src=\"https://colab.research.google.com/assets/colab-badge.svg\" alt=\"Open In Colab\"/></a>"
      ]
    },
    {
      "cell_type": "code",
      "execution_count": 4,
      "metadata": {
        "colab": {
          "base_uri": "https://localhost:8080/"
        },
        "id": "MoeNXjva68Ll",
        "outputId": "ed10574b-5ff1-4438-f782-d7760288a255"
      },
      "outputs": [
        {
          "output_type": "stream",
          "name": "stdout",
          "text": [
            "enter frist number:2.5\n",
            "enter second number:5.7\n",
            "The sum of 2.5 and5.7 is 8.2\n"
          ]
        }
      ],
      "source": [
        "num1 = input('enter frist number:')\n",
        "num2 = input('enter second number:')\n",
        "sum = float(num1) + float (num2)\n",
        "print('The sum of {0} and{1} is {2}'.format(num1, num2, sum))"
      ]
    }
  ]
}