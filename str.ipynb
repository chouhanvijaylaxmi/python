{
  "nbformat": 4,
  "nbformat_minor": 0,
  "metadata": {
    "colab": {
      "provenance": [],
      "authorship_tag": "ABX9TyMtfaTdl73FOurCTxLOI4ac",
      "include_colab_link": true
    },
    "kernelspec": {
      "name": "python3",
      "display_name": "Python 3"
    },
    "language_info": {
      "name": "python"
    }
  },
  "cells": [
    {
      "cell_type": "markdown",
      "metadata": {
        "id": "view-in-github",
        "colab_type": "text"
      },
      "source": [
        "<a href=\"https://colab.research.google.com/github/chouhanvijaylaxmi/python/blob/main/str.ipynb\" target=\"_parent\"><img src=\"https://colab.research.google.com/assets/colab-badge.svg\" alt=\"Open In Colab\"/></a>"
      ]
    },
    {
      "cell_type": "code",
      "execution_count": 2,
      "metadata": {
        "colab": {
          "base_uri": "https://localhost:8080/"
        },
        "id": "gdNQZbxQIHbi",
        "outputId": "cd0c098d-6f00-48e2-d2dd-7b10899a0f7e"
      },
      "outputs": [
        {
          "output_type": "stream",
          "name": "stdout",
          "text": [
            "Prime numbers between 1 and 10 are:\n",
            "2\n",
            "3\n",
            "5\n",
            "7\n"
          ]
        }
      ],
      "source": [
        "\n",
        "a = 1\n",
        "b = 10\n",
        "\n",
        "print(\"Prime numbers between\", a, \"and\", b, \"are:\")\n",
        "\n",
        "for num in range(a, b + 1):\n",
        "   if num > 1:\n",
        "       for i in range(2, num):\n",
        "           if (num % i) == 0:\n",
        "               break\n",
        "       else:\n",
        "           print(num)"
      ]
    },
    {
      "cell_type": "code",
      "source": [
        "a = \"khushi\"\n",
        "b=len(a)\n",
        "str=\"\"\n",
        "while b>0:\n",
        "  b-=1\n",
        "  str+=a[b]\n",
        "print(str)\n",
        "\n",
        "\n"
      ],
      "metadata": {
        "colab": {
          "base_uri": "https://localhost:8080/"
        },
        "id": "xMWf-z-MNlJY",
        "outputId": "eb583be4-eaf1-483b-fcc3-2667e444d0c0"
      },
      "execution_count": 19,
      "outputs": [
        {
          "output_type": "stream",
          "name": "stdout",
          "text": [
            "ihsuhk\n"
          ]
        }
      ]
    },
    {
      "cell_type": "code",
      "source": [
        "a =  (input())\n",
        "b = len(a)\n",
        "str=\"\"\n",
        "while b>0:\n",
        "  b-=1\n",
        "  str+=a[b]\n",
        "print(str)"
      ],
      "metadata": {
        "colab": {
          "base_uri": "https://localhost:8080/"
        },
        "id": "ytK8FbJsQicC",
        "outputId": "033a24a4-068c-4724-ffe3-0f382062bd19"
      },
      "execution_count": 20,
      "outputs": [
        {
          "output_type": "stream",
          "name": "stdout",
          "text": [
            "my name is khushi\n",
            "ihsuhk si eman ym\n"
          ]
        }
      ]
    }
  ]
}