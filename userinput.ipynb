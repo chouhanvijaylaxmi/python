{
  "nbformat": 4,
  "nbformat_minor": 0,
  "metadata": {
    "colab": {
      "provenance": [],
      "authorship_tag": "ABX9TyMxxH1+L19r4JNHbNHzjcMN",
      "include_colab_link": true
    },
    "kernelspec": {
      "name": "python3",
      "display_name": "Python 3"
    },
    "language_info": {
      "name": "python"
    }
  },
  "cells": [
    {
      "cell_type": "markdown",
      "metadata": {
        "id": "view-in-github",
        "colab_type": "text"
      },
      "source": [
        "<a href=\"https://colab.research.google.com/github/chouhanvijaylaxmi/python/blob/main/userinput.ipynb\" target=\"_parent\"><img src=\"https://colab.research.google.com/assets/colab-badge.svg\" alt=\"Open In Colab\"/></a>"
      ]
    },
    {
      "cell_type": "code",
      "execution_count": null,
      "metadata": {
        "id": "rUoAJ-xPo6S7"
      },
      "outputs": [],
      "source": [
        "user = {\"name\":input(),\"age\" : input(),\"phone number\":input()}\n",
        "file = open(user[\"phone number\"]+\".txt\",\"w\")\n",
        "for keys , vaules in  user.items():\n",
        "  file .write(keys)\n",
        "  file .write(vaules)\n",
        "  file .write(\"\\n\")\n",
        "file.close()\n",
        "file=open(user[\"phone number\"]+\"name.txt\",\"r\")\n",
        "for i in file:\n",
        " print(i)"
      ]
    },
    {
      "cell_type": "code",
      "source": [
        "s = open(\"name.txt\",\"rt\")\n",
        "print(s.read())"
      ],
      "metadata": {
        "colab": {
          "base_uri": "https://localhost:8080/"
        },
        "id": "QFxG7mn7tbed",
        "outputId": "6c162db5-46e5-4b58-ff4f-8fe64f9ccad3"
      },
      "execution_count": 3,
      "outputs": [
        {
          "output_type": "stream",
          "name": "stdout",
          "text": [
            "my name is khushi\n"
          ]
        }
      ]
    }
  ]
}