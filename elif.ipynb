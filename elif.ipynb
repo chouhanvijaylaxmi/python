{
  "nbformat": 4,
  "nbformat_minor": 0,
  "metadata": {
    "colab": {
      "provenance": [],
      "authorship_tag": "ABX9TyOiXMdulFmDHwyrQ43//ulq",
      "include_colab_link": true
    },
    "kernelspec": {
      "name": "python3",
      "display_name": "Python 3"
    },
    "language_info": {
      "name": "python"
    }
  },
  "cells": [
    {
      "cell_type": "markdown",
      "metadata": {
        "id": "view-in-github",
        "colab_type": "text"
      },
      "source": [
        "<a href=\"https://colab.research.google.com/github/chouhanvijaylaxmi/python/blob/main/elif.ipynb\" target=\"_parent\"><img src=\"https://colab.research.google.com/assets/colab-badge.svg\" alt=\"Open In Colab\"/></a>"
      ]
    },
    {
      "cell_type": "code",
      "execution_count": 13,
      "metadata": {
        "colab": {
          "base_uri": "https://localhost:8080/"
        },
        "id": "MoeNXjva68Ll",
        "outputId": "32e81278-6dcf-4357-a4c4-64969be8223e"
      },
      "outputs": [
        {
          "output_type": "stream",
          "name": "stdout",
          "text": [
            "8\n",
            "7\n",
            "5\n",
            "a is greater then b\n"
          ]
        }
      ],
      "source": [
        "a=input()\n",
        "a=int(a)\n",
        "b=input()\n",
        "b=int(b)\n",
        "c=input()\n",
        "c=int(c)\n",
        "if a>b:\n",
        "  print('a is greater then b')\n",
        "elif b>c:\n",
        "    print('b is greater then c')\n",
        "else:\n",
        "   print('c is greater then a')"
      ]
    }
  ]
}