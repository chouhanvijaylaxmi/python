{
  "nbformat": 4,
  "nbformat_minor": 0,
  "metadata": {
    "colab": {
      "provenance": [],
      "authorship_tag": "ABX9TyMTjVN7dgSC4HlZRYlZohrO",
      "include_colab_link": true
    },
    "kernelspec": {
      "name": "python3",
      "display_name": "Python 3"
    },
    "language_info": {
      "name": "python"
    }
  },
  "cells": [
    {
      "cell_type": "markdown",
      "metadata": {
        "id": "view-in-github",
        "colab_type": "text"
      },
      "source": [
        "<a href=\"https://colab.research.google.com/github/chouhanvijaylaxmi/python/blob/main/lower%20upper.ipynb\" target=\"_parent\"><img src=\"https://colab.research.google.com/assets/colab-badge.svg\" alt=\"Open In Colab\"/></a>"
      ]
    },
    {
      "cell_type": "code",
      "execution_count": 4,
      "metadata": {
        "colab": {
          "base_uri": "https://localhost:8080/"
        },
        "id": "KNz1bsKHzXto",
        "outputId": "bd7feb49-986a-4302-a0c3-28895a30a716"
      },
      "outputs": [
        {
          "output_type": "stream",
          "name": "stdout",
          "text": [
            "man\n"
          ]
        }
      ],
      "source": [
        "fruit = \"mango\"\n",
        "print(fruit[0:3])"
      ]
    },
    {
      "cell_type": "code",
      "source": [
        "a = \"addjkglfko\"\n",
        "print(a.upper())\n",
        "b = \"ADWFRYTIK\"\n",
        "print(b.lower())"
      ],
      "metadata": {
        "colab": {
          "base_uri": "https://localhost:8080/"
        },
        "id": "itU5QfvP2L99",
        "outputId": "0f59448a-b1b7-459a-f16d-975a7bc4f5e9"
      },
      "execution_count": 6,
      "outputs": [
        {
          "output_type": "stream",
          "name": "stdout",
          "text": [
            "ADDJKGLFKO\n",
            "adwfrytik\n"
          ]
        }
      ]
    }
  ]
}