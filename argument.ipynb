{
  "nbformat": 4,
  "nbformat_minor": 0,
  "metadata": {
    "colab": {
      "provenance": [],
      "authorship_tag": "ABX9TyPNze/HmNze2EBMD9idmhOD",
      "include_colab_link": true
    },
    "kernelspec": {
      "name": "python3",
      "display_name": "Python 3"
    },
    "language_info": {
      "name": "python"
    }
  },
  "cells": [
    {
      "cell_type": "markdown",
      "metadata": {
        "id": "view-in-github",
        "colab_type": "text"
      },
      "source": [
        "<a href=\"https://colab.research.google.com/github/chouhanvijaylaxmi/python/blob/main/argument.ipynb\" target=\"_parent\"><img src=\"https://colab.research.google.com/assets/colab-badge.svg\" alt=\"Open In Colab\"/></a>"
      ]
    },
    {
      "cell_type": "code",
      "execution_count": 11,
      "metadata": {
        "id": "o5HGmdA9-68t",
        "colab": {
          "base_uri": "https://localhost:8080/"
        },
        "outputId": "a7cc5cf1-8a40-4468-80c4-1d7c614ff031"
      },
      "outputs": [
        {
          "output_type": "stream",
          "name": "stdout",
          "text": [
            "sum: 10\n"
          ]
        }
      ],
      "source": [
        "def add_numbers(num1,num2):\n",
        "   sum  = num1 + num2\n",
        "   print(\"sum:\", sum)\n",
        "add_numbers(6,4)\n",
        ""
      ]
    },
    {
      "cell_type": "code",
      "source": [
        "def add(*arg):\n",
        "   a = len(arg)\n",
        "   print(arg[a-1])\n",
        "add(3,4,5,6,7)\n",
        "add(4,6,8,9)\n",
        "add(1,2,5)\n",
        "\n"
      ],
      "metadata": {
        "colab": {
          "base_uri": "https://localhost:8080/"
        },
        "id": "5tLA2lwhDTSY",
        "outputId": "3dbd82b9-6e7e-44cf-ab7f-e9f1e0796efb"
      },
      "execution_count": 14,
      "outputs": [
        {
          "output_type": "stream",
          "name": "stdout",
          "text": [
            "7\n",
            "9\n",
            "5\n"
          ]
        }
      ]
    }
  ]
}