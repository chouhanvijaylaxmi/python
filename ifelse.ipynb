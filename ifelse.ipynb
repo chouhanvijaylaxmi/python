{
  "nbformat": 4,
  "nbformat_minor": 0,
  "metadata": {
    "colab": {
      "provenance": [],
      "toc_visible": true,
      "authorship_tag": "ABX9TyNyarhlXavsPmFiJeAq5xxy",
      "include_colab_link": true
    },
    "kernelspec": {
      "name": "python3",
      "display_name": "Python 3"
    },
    "language_info": {
      "name": "python"
    }
  },
  "cells": [
    {
      "cell_type": "markdown",
      "metadata": {
        "id": "view-in-github",
        "colab_type": "text"
      },
      "source": [
        "<a href=\"https://colab.research.google.com/github/chouhanvijaylaxmi/python/blob/main/ifelse.ipynb\" target=\"_parent\"><img src=\"https://colab.research.google.com/assets/colab-badge.svg\" alt=\"Open In Colab\"/></a>"
      ]
    },
    {
      "cell_type": "code",
      "execution_count": null,
      "metadata": {
        "colab": {
          "base_uri": "https://localhost:8080/"
        },
        "id": "gaF2wZWXmsNs",
        "outputId": "00b872fc-7271-413a-a6fa-def81440ae38"
      },
      "outputs": [
        {
          "output_type": "stream",
          "name": "stdout",
          "text": [
            "enter value5\n",
            "enter value4.5\n",
            "0.5\n",
            "<class 'str'>\n",
            "<class 'str'>\n"
          ]
        }
      ],
      "source": [
        "\n",
        "\n",
        "a=input('enter value')\n",
        "type(a)\n",
        "b=input('enter value')\n",
        "type(b)\n",
        "print(float(a)-float(b))\n",
        "print(type(a))\n",
        "print(type(b))"
      ]
    },
    {
      "cell_type": "markdown",
      "source": [
        "# New Section"
      ],
      "metadata": {
        "id": "VgsxHItJt4tz"
      }
    },
    {
      "cell_type": "code",
      "source": [
        "n = input()\n",
        "n=int(n)\n",
        "if (n%2!=0) or (n>=6 and n<=20):\n",
        "  print(\"wierd\")\n",
        "else:\n",
        "   print(\"not wierd\")"
      ],
      "metadata": {
        "id": "05108zK3o5up",
        "colab": {
          "base_uri": "https://localhost:8080/"
        },
        "outputId": "967b35aa-dc10-4af0-8246-b2ad4db4e375"
      },
      "execution_count": 14,
      "outputs": [
        {
          "output_type": "stream",
          "name": "stdout",
          "text": [
            "45\n",
            "wierd\n"
          ]
        }
      ]
    }
  ]
}