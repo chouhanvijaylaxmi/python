{
  "nbformat": 4,
  "nbformat_minor": 0,
  "metadata": {
    "colab": {
      "provenance": [],
      "authorship_tag": "ABX9TyNAxfMDRX/JAQjc/kvB8CTr",
      "include_colab_link": true
    },
    "kernelspec": {
      "name": "python3",
      "display_name": "Python 3"
    },
    "language_info": {
      "name": "python"
    }
  },
  "cells": [
    {
      "cell_type": "markdown",
      "metadata": {
        "id": "view-in-github",
        "colab_type": "text"
      },
      "source": [
        "<a href=\"https://colab.research.google.com/github/chouhanvijaylaxmi/python/blob/main/Abstract.ipynb\" target=\"_parent\"><img src=\"https://colab.research.google.com/assets/colab-badge.svg\" alt=\"Open In Colab\"/></a>"
      ]
    },
    {
      "cell_type": "code",
      "source": [
        "from abc import ABC, abstractmethod\n",
        "\n",
        "class Polygon(ABC):\n",
        "  @abstractmethod\n",
        "  def noofside(self):\n",
        "    pass\n",
        "class Triangle(Polygon):\n",
        "  def noofside(self):\n",
        "    print(\"I have 3 side\")\n",
        "class Hexagon(Polygon):\n",
        "  def noofside(self):\n",
        "    print(\"I have 6 side\")\n",
        "R = Triangle()\n",
        "R.noofside()\n",
        "k = Hexagon()\n",
        "k.noofside()\n",
        "\n",
        "\n"
      ],
      "metadata": {
        "colab": {
          "base_uri": "https://localhost:8080/"
        },
        "id": "crIcsWI9-hGB",
        "outputId": "70afbbf4-8638-4bde-d66a-beb94ab73f45"
      },
      "execution_count": 3,
      "outputs": [
        {
          "output_type": "stream",
          "name": "stdout",
          "text": [
            "I have 3 side\n",
            "I have 6 side\n"
          ]
        }
      ]
    }
  ]
}